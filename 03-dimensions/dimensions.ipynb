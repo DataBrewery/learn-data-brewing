{
 "metadata": {
  "name": "",
  "signature": "sha256:8b135264c0769ff76d5b0e10dfe96434395db4bc7a341683ffcd07abfb19a9de"
 },
 "nbformat": 3,
 "nbformat_minor": 0,
 "worksheets": [
  {
   "cells": [
    {
     "cell_type": "markdown",
     "metadata": {},
     "source": [
      "# Introductions to Dimensions\n",
      "\n",
      "Objectives:\n",
      "\n",
      "* learn about dimensions and their implementation in relational database\n",
      "* how to model concept hierarchies of a dimension\n",
      "* conforming dimension labels\n",
      "* simple dimension loading with mapping\n",
      "\n",
      "Keywords and concepts:\n",
      "\n",
      "* dimension table\n",
      "* key\n",
      "* mapping and mapping table\n",
      "* concept hierarchy\n",
      "* date dimension table"
     ]
    },
    {
     "cell_type": "heading",
     "level": 1,
     "metadata": {},
     "source": [
      "Preparation"
     ]
    },
    {
     "cell_type": "code",
     "collapsed": false,
     "input": [
      "# Required relevant imports\n",
      "\n",
      "import sqlalchemy as sa\n",
      "import csv"
     ],
     "language": "python",
     "metadata": {},
     "outputs": []
    },
    {
     "cell_type": "code",
     "collapsed": false,
     "input": [
      "# Playground imports \u2013 not important to the topic\n",
      "\n",
      "# Ipython notebook prettyness\n",
      "from IPython.display import HTML\n",
      "from tabulate import tabulate\n",
      "\n",
      "\n",
      "def pretty_table(data, headers):\n",
      "    \"\"\"Print nice tables in the ipython notebook\"\"\"\n",
      "    return HTML(tabulate(data, headers, \"html\"))"
     ],
     "language": "python",
     "metadata": {},
     "outputs": []
    },
    {
     "cell_type": "heading",
     "level": 1,
     "metadata": {},
     "source": [
      "Load a Dimension"
     ]
    },
    {
     "cell_type": "markdown",
     "metadata": {},
     "source": [
      "To warm up, we will load a dimension table from a CSV file. The CSV file contains columns: `id`, `customer_name`, `customer_type`."
     ]
    },
    {
     "cell_type": "code",
     "collapsed": false,
     "input": [
      "with open(\"03-dimensions/customer.csv\") as f:\n",
      "    ..."
     ],
     "language": "python",
     "metadata": {},
     "outputs": []
    },
    {
     "cell_type": "code",
     "collapsed": false,
     "input": [],
     "language": "python",
     "metadata": {},
     "outputs": []
    }
   ],
   "metadata": {}
  }
 ]
}